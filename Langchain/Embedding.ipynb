{
 "cells": [
  {
   "cell_type": "markdown",
   "id": "75ac31a7",
   "metadata": {},
   "source": [
    "### Working with Embedding Models and storing in VectorDb"
   ]
  },
  {
   "cell_type": "markdown",
   "id": "3b551f29",
   "metadata": {},
   "source": []
  },
  {
   "cell_type": "code",
   "execution_count": 1,
   "id": "8ce061f0",
   "metadata": {},
   "outputs": [],
   "source": [
    "import os\n",
    "from dotenv import load_dotenv\n",
    "load_dotenv()\n",
    "\n",
    "os.environ[\"GOOGLE_API_KEY\"] = os.getenv(\"GOOGLE_API_KEY\")"
   ]
  },
  {
   "cell_type": "code",
   "execution_count": 2,
   "id": "d907eca9",
   "metadata": {},
   "outputs": [],
   "source": [
    "with open(\"speech.txt\", \"r\") as file:\n",
    "    speech = file.read()\n",
    "\n",
    "from langchain_community.document_loaders import TextLoader\n",
    "\n",
    "loader = TextLoader(\"speech.txt\")\n",
    "speech_docs = loader.load()"
   ]
  },
  {
   "cell_type": "code",
   "execution_count": 3,
   "id": "84d2f485",
   "metadata": {},
   "outputs": [
    {
     "data": {
      "text/plain": [
       "126"
      ]
     },
     "execution_count": 3,
     "metadata": {},
     "output_type": "execute_result"
    }
   ],
   "source": [
    "from langchain_text_splitters import RecursiveCharacterTextSplitter\n",
    "text_splitter = RecursiveCharacterTextSplitter(\n",
    "    chunk_size=100,\n",
    "    chunk_overlap=20,\n",
    "    length_function=len\n",
    ")\n",
    "final_docs = text_splitter.split_documents(speech_docs)\n",
    "len(final_docs)"
   ]
  },
  {
   "cell_type": "code",
   "execution_count": 4,
   "id": "1f62a0a1",
   "metadata": {},
   "outputs": [
    {
     "data": {
      "text/plain": [
       "[Document(metadata={'source': 'speech.txt'}, page_content='DEMOCRACY: THE CORNERSTONE OF HUMAN PROGRESS AND FREEDOM'),\n",
       " Document(metadata={'source': 'speech.txt'}, page_content='Honorable guests, distinguished colleagues, and fellow citizens,\\n\\nINTRODUCTION'),\n",
       " Document(metadata={'source': 'speech.txt'}, page_content=\"Today, I stand before you to speak about one of humanity's greatest achievements: democracy. More\"),\n",
       " Document(metadata={'source': 'speech.txt'}, page_content='democracy. More than just a political system, democracy represents the collective aspiration of'),\n",
       " Document(metadata={'source': 'speech.txt'}, page_content='aspiration of billions of people for freedom, equality, and self-determination. It is the'),\n",
       " Document(metadata={'source': 'speech.txt'}, page_content='It is the foundation upon which modern civilization has built its most cherished values and'),\n",
       " Document(metadata={'source': 'speech.txt'}, page_content='values and institutions.'),\n",
       " Document(metadata={'source': 'speech.txt'}, page_content='Democracy, derived from the Greek words \"demos\" meaning people and \"kratos\" meaning power,'),\n",
       " Document(metadata={'source': 'speech.txt'}, page_content='meaning power, literally translates to \"power of the people.\" This simple yet profound concept has'),\n",
       " Document(metadata={'source': 'speech.txt'}, page_content='concept has shaped the course of human history, sparked revolutions, and continues to inspire'),\n",
       " Document(metadata={'source': 'speech.txt'}, page_content='to inspire movements for justice and equality across the globe.'),\n",
       " Document(metadata={'source': 'speech.txt'}, page_content='I. THE HISTORICAL EVOLUTION OF DEMOCRACY'),\n",
       " Document(metadata={'source': 'speech.txt'}, page_content=\"To understand democracy's significance, we must first examine its historical journey. The seeds of\"),\n",
       " Document(metadata={'source': 'speech.txt'}, page_content='The seeds of democratic thought were planted in ancient Athens around 508 BCE, where citizens'),\n",
       " Document(metadata={'source': 'speech.txt'}, page_content='BCE, where citizens gathered in the agora to participate directly in governance. Though limited to'),\n",
       " Document(metadata={'source': 'speech.txt'}, page_content='Though limited to a small segment of society, this early experiment demonstrated that ordinary'),\n",
       " Document(metadata={'source': 'speech.txt'}, page_content='that ordinary people could govern themselves effectively.'),\n",
       " Document(metadata={'source': 'speech.txt'}, page_content='The concept lay dormant for centuries until the Enlightenment period rekindled interest in'),\n",
       " Document(metadata={'source': 'speech.txt'}, page_content='interest in democratic ideals. Philosophers like John Locke, Montesquieu, and Rousseau articulated'),\n",
       " Document(metadata={'source': 'speech.txt'}, page_content='articulated theories of popular sovereignty and separation of powers that would later influence'),\n",
       " Document(metadata={'source': 'speech.txt'}, page_content='later influence modern democratic constitutions.'),\n",
       " Document(metadata={'source': 'speech.txt'}, page_content='The American Revolution of 1776 and the French Revolution of 1789 marked pivotal moments when'),\n",
       " Document(metadata={'source': 'speech.txt'}, page_content='moments when democratic principles moved from theory to practice. These events demonstrated that'),\n",
       " Document(metadata={'source': 'speech.txt'}, page_content='demonstrated that people could overthrow tyrannical governments and establish systems based on'),\n",
       " Document(metadata={'source': 'speech.txt'}, page_content='systems based on consent of the governed.'),\n",
       " Document(metadata={'source': 'speech.txt'}, page_content=\"The 19th and 20th centuries witnessed democracy's gradual expansion. Universal suffrage movements\"),\n",
       " Document(metadata={'source': 'speech.txt'}, page_content='suffrage movements extended voting rights to previously excluded groups, including women and'),\n",
       " Document(metadata={'source': 'speech.txt'}, page_content='including women and minorities. The defeat of fascism in World War II further solidified'),\n",
       " Document(metadata={'source': 'speech.txt'}, page_content=\"further solidified democracy's moral authority, establishing it as the preferred alternative to\"),\n",
       " Document(metadata={'source': 'speech.txt'}, page_content='alternative to totalitarian rule.'),\n",
       " Document(metadata={'source': 'speech.txt'}, page_content='II. FUNDAMENTAL PRINCIPLES OF DEMOCRACY'),\n",
       " Document(metadata={'source': 'speech.txt'}, page_content='Democracy rests upon several interconnected principles that distinguish it from other forms of'),\n",
       " Document(metadata={'source': 'speech.txt'}, page_content='from other forms of government. Understanding these principles is crucial for appreciating'),\n",
       " Document(metadata={'source': 'speech.txt'}, page_content=\"for appreciating democracy's unique value proposition.\"),\n",
       " Document(metadata={'source': 'speech.txt'}, page_content='First is popular sovereignty – the idea that ultimate political authority rests with the people.'),\n",
       " Document(metadata={'source': 'speech.txt'}, page_content='with the people. Citizens are not subjects but sovereign actors who delegate power to'),\n",
       " Document(metadata={'source': 'speech.txt'}, page_content='delegate power to representatives through free and fair elections. This principle ensures that'),\n",
       " Document(metadata={'source': 'speech.txt'}, page_content='ensures that governments derive their legitimacy from the consent of the governed.'),\n",
       " Document(metadata={'source': 'speech.txt'}, page_content='Second is political equality – the notion that all citizens possess equal political rights'),\n",
       " Document(metadata={'source': 'speech.txt'}, page_content='political rights regardless of their social status, wealth, or background. The principle of \"one'),\n",
       " Document(metadata={'source': 'speech.txt'}, page_content='principle of \"one person, one vote\" embodies this ideal, ensuring that each citizen\\'s voice carries'),\n",
       " Document(metadata={'source': 'speech.txt'}, page_content='voice carries equal weight in the democratic process.'),\n",
       " Document(metadata={'source': 'speech.txt'}, page_content='Third is majority rule with minority rights. While democracy empowers majorities to make decisions,'),\n",
       " Document(metadata={'source': 'speech.txt'}, page_content='to make decisions, it also protects minority interests through constitutional safeguards, bill of'),\n",
       " Document(metadata={'source': 'speech.txt'}, page_content='safeguards, bill of rights, and independent judiciary systems. This balance prevents the tyranny of'),\n",
       " Document(metadata={'source': 'speech.txt'}, page_content='the tyranny of the majority while maintaining democratic governance.'),\n",
       " Document(metadata={'source': 'speech.txt'}, page_content='Fourth is political pluralism – the acceptance that society contains diverse interests and'),\n",
       " Document(metadata={'source': 'speech.txt'}, page_content='interests and viewpoints. Democracy provides peaceful mechanisms for competing groups to advocate'),\n",
       " Document(metadata={'source': 'speech.txt'}, page_content='groups to advocate their positions and seek influence through legitimate political channels.'),\n",
       " Document(metadata={'source': 'speech.txt'}, page_content='III. THE BENEFITS OF DEMOCRATIC GOVERNANCE'),\n",
       " Document(metadata={'source': 'speech.txt'}, page_content='Democracy offers numerous advantages that explain its global appeal and enduring strength. These'),\n",
       " Document(metadata={'source': 'speech.txt'}, page_content='strength. These benefits extend beyond politics to encompass economic, social, and cultural'),\n",
       " Document(metadata={'source': 'speech.txt'}, page_content='and cultural dimensions of human life.'),\n",
       " Document(metadata={'source': 'speech.txt'}, page_content='Politically, democracy provides accountability mechanisms that constrain government power and'),\n",
       " Document(metadata={'source': 'speech.txt'}, page_content='power and prevent abuse. Regular elections allow citizens to remove ineffective or corrupt leaders,'),\n",
       " Document(metadata={'source': 'speech.txt'}, page_content='or corrupt leaders, while free press and civil society organizations monitor government actions.'),\n",
       " Document(metadata={'source': 'speech.txt'}, page_content='government actions. This accountability reduces corruption and promotes responsive governance.'),\n",
       " Document(metadata={'source': 'speech.txt'}, page_content='Economically, democratic societies tend to experience greater prosperity and innovation. The'),\n",
       " Document(metadata={'source': 'speech.txt'}, page_content='and innovation. The protection of property rights, rule of law, and economic freedoms creates'),\n",
       " Document(metadata={'source': 'speech.txt'}, page_content='freedoms creates favorable conditions for entrepreneurship and investment. Democratic institutions'),\n",
       " Document(metadata={'source': 'speech.txt'}, page_content='institutions also promote more equitable distribution of resources and opportunities.'),\n",
       " Document(metadata={'source': 'speech.txt'}, page_content='Socially, democracy fosters inclusion and social cohesion. By providing peaceful means for'),\n",
       " Document(metadata={'source': 'speech.txt'}, page_content='peaceful means for resolving conflicts and addressing grievances, democratic systems reduce the'),\n",
       " Document(metadata={'source': 'speech.txt'}, page_content='systems reduce the likelihood of violence and social unrest. The participatory nature of democracy'),\n",
       " Document(metadata={'source': 'speech.txt'}, page_content='nature of democracy also strengthens civic engagement and community bonds.'),\n",
       " Document(metadata={'source': 'speech.txt'}, page_content='Culturally, democracy celebrates diversity and promotes tolerance. The protection of individual'),\n",
       " Document(metadata={'source': 'speech.txt'}, page_content='of individual rights and freedoms allows different cultures, religions, and lifestyles to coexist'),\n",
       " Document(metadata={'source': 'speech.txt'}, page_content='to coexist peacefully. This cultural pluralism enriches society and promotes creativity and'),\n",
       " Document(metadata={'source': 'speech.txt'}, page_content='creativity and innovation.'),\n",
       " Document(metadata={'source': 'speech.txt'}, page_content='IV. CONTEMPORARY CHALLENGES TO DEMOCRACY'),\n",
       " Document(metadata={'source': 'speech.txt'}, page_content='Despite its strengths, democracy faces significant challenges in the 21st century. Understanding'),\n",
       " Document(metadata={'source': 'speech.txt'}, page_content='Understanding these challenges is essential for preserving and strengthening democratic'),\n",
       " Document(metadata={'source': 'speech.txt'}, page_content='democratic institutions.'),\n",
       " Document(metadata={'source': 'speech.txt'}, page_content='The rise of authoritarianism represents perhaps the greatest threat to democracy today.'),\n",
       " Document(metadata={'source': 'speech.txt'}, page_content='to democracy today. Authoritarian leaders exploit democratic processes to gain power, then'),\n",
       " Document(metadata={'source': 'speech.txt'}, page_content='to gain power, then systematically dismantle democratic institutions from within. This democratic'),\n",
       " Document(metadata={'source': 'speech.txt'}, page_content='This democratic backsliding has affected countries across all regions and development levels.'),\n",
       " Document(metadata={'source': 'speech.txt'}, page_content='Polarization and tribalism have weakened democratic discourse in many societies. Social media and'),\n",
       " Document(metadata={'source': 'speech.txt'}, page_content='Social media and partisan media outlets create echo chambers that reinforce existing beliefs and'),\n",
       " Document(metadata={'source': 'speech.txt'}, page_content='beliefs and demonize opposing viewpoints. This polarization makes compromise and consensus-building'),\n",
       " Document(metadata={'source': 'speech.txt'}, page_content='consensus-building increasingly difficult.'),\n",
       " Document(metadata={'source': 'speech.txt'}, page_content='Economic inequality poses another challenge to democratic governance. When wealth becomes'),\n",
       " Document(metadata={'source': 'speech.txt'}, page_content='When wealth becomes concentrated among a small elite, it can translate into disproportionate'),\n",
       " Document(metadata={'source': 'speech.txt'}, page_content='disproportionate political influence, undermining the principle of political equality. Growing'),\n",
       " Document(metadata={'source': 'speech.txt'}, page_content='equality. Growing inequality also fuels populist movements that challenge democratic norms.'),\n",
       " Document(metadata={'source': 'speech.txt'}, page_content='Technological disruption presents both opportunities and threats to democracy. While technology can'),\n",
       " Document(metadata={'source': 'speech.txt'}, page_content='technology can enhance civic participation and government transparency, it also enables new forms'),\n",
       " Document(metadata={'source': 'speech.txt'}, page_content='enables new forms of manipulation through disinformation campaigns, surveillance, and algorithmic'),\n",
       " Document(metadata={'source': 'speech.txt'}, page_content='and algorithmic bias.'),\n",
       " Document(metadata={'source': 'speech.txt'}, page_content='V. STRENGTHENING DEMOCRACY FOR THE FUTURE'),\n",
       " Document(metadata={'source': 'speech.txt'}, page_content='Addressing these challenges requires concerted effort from citizens, institutions, and leaders'),\n",
       " Document(metadata={'source': 'speech.txt'}, page_content=\"and leaders committed to democratic values. Several strategies can help strengthen democracy's\"),\n",
       " Document(metadata={'source': 'speech.txt'}, page_content=\"democracy's resilience and effectiveness.\"),\n",
       " Document(metadata={'source': 'speech.txt'}, page_content='Civic education must be prioritized to ensure citizens understand democratic principles and'),\n",
       " Document(metadata={'source': 'speech.txt'}, page_content=\"principles and processes. An informed citizenry is democracy's first line of defense against\"),\n",
       " Document(metadata={'source': 'speech.txt'}, page_content='of defense against demagogues and misinformation. Schools, universities, and civil society'),\n",
       " Document(metadata={'source': 'speech.txt'}, page_content='and civil society organizations must work together to promote civic knowledge and engagement.'),\n",
       " Document(metadata={'source': 'speech.txt'}, page_content='Democratic institutions need constant renewal and reform. Electoral systems should be designed to'),\n",
       " Document(metadata={'source': 'speech.txt'}, page_content='be designed to promote fair representation and reduce the influence of money in politics. Judicial'),\n",
       " Document(metadata={'source': 'speech.txt'}, page_content='politics. Judicial independence must be protected, and checks and balances strengthened to prevent'),\n",
       " Document(metadata={'source': 'speech.txt'}, page_content='to prevent abuse of power.'),\n",
       " Document(metadata={'source': 'speech.txt'}, page_content='Civil society plays a crucial role in monitoring government actions and advocating for citizen'),\n",
       " Document(metadata={'source': 'speech.txt'}, page_content='for citizen interests. Strong, independent media, non-governmental organizations, and civic'),\n",
       " Document(metadata={'source': 'speech.txt'}, page_content='and civic associations are essential for democratic accountability and participation.'),\n",
       " Document(metadata={'source': 'speech.txt'}, page_content='International cooperation can help protect democracy against transnational threats. Democratic'),\n",
       " Document(metadata={'source': 'speech.txt'}, page_content='threats. Democratic nations must work together to counter authoritarian influence operations,'),\n",
       " Document(metadata={'source': 'speech.txt'}, page_content='operations, support democratic movements, and strengthen international institutions that promote'),\n",
       " Document(metadata={'source': 'speech.txt'}, page_content='that promote democratic values.'),\n",
       " Document(metadata={'source': 'speech.txt'}, page_content='CONCLUSION'),\n",
       " Document(metadata={'source': 'speech.txt'}, page_content='Democracy is not a destination but a journey – an ongoing experiment in self-governance that'),\n",
       " Document(metadata={'source': 'speech.txt'}, page_content='that requires constant vigilance and participation. It is messy, sometimes inefficient, and always'),\n",
       " Document(metadata={'source': 'speech.txt'}, page_content=\"and always imperfect. Yet it remains humanity's best hope for achieving freedom, equality, and\"),\n",
       " Document(metadata={'source': 'speech.txt'}, page_content='equality, and justice.'),\n",
       " Document(metadata={'source': 'speech.txt'}, page_content='The challenges facing democracy today are real and serious, but they are not insurmountable.'),\n",
       " Document(metadata={'source': 'speech.txt'}, page_content='not insurmountable. History has shown that democratic societies possess remarkable resilience and'),\n",
       " Document(metadata={'source': 'speech.txt'}, page_content='resilience and capacity for self-correction. By recommitting ourselves to democratic values and'),\n",
       " Document(metadata={'source': 'speech.txt'}, page_content='values and institutions, we can ensure that government of the people, by the people, and for the'),\n",
       " Document(metadata={'source': 'speech.txt'}, page_content='people, and for the people continues to flourish.'),\n",
       " Document(metadata={'source': 'speech.txt'}, page_content=\"As citizens of democratic societies, we each bear responsibility for democracy's future. We must\"),\n",
       " Document(metadata={'source': 'speech.txt'}, page_content='future. We must vote, engage in civic life, stay informed about public issues, and hold our leaders'),\n",
       " Document(metadata={'source': 'speech.txt'}, page_content='hold our leaders accountable. We must also defend democratic norms and institutions against those'),\n",
       " Document(metadata={'source': 'speech.txt'}, page_content='against those who would undermine them.'),\n",
       " Document(metadata={'source': 'speech.txt'}, page_content=\"The light of democracy has illuminated humanity's path toward progress for centuries. Let us ensure\"),\n",
       " Document(metadata={'source': 'speech.txt'}, page_content='Let us ensure that this light continues to shine brightly for future generations, guiding them'),\n",
       " Document(metadata={'source': 'speech.txt'}, page_content='guiding them toward a more just, free, and prosperous world.'),\n",
       " Document(metadata={'source': 'speech.txt'}, page_content='Thank you.\\n\\n[Word count: Approximately 1,200 words]')]"
      ]
     },
     "execution_count": 4,
     "metadata": {},
     "output_type": "execute_result"
    }
   ],
   "source": [
    "final_docs"
   ]
  },
  {
   "cell_type": "code",
   "execution_count": 5,
   "id": "be60f411",
   "metadata": {},
   "outputs": [
    {
     "data": {
      "text/plain": [
       "(126, 768)"
      ]
     },
     "execution_count": 5,
     "metadata": {},
     "output_type": "execute_result"
    }
   ],
   "source": [
    "from langchain_google_genai import GoogleGenerativeAIEmbeddings\n",
    "embeddings = GoogleGenerativeAIEmbeddings(\n",
    "    model=\"models/text-embedding-004\",\n",
    "    max_retries=3\n",
    ")\n",
    "\n",
    "vectors = embeddings.embed_documents([doc.page_content for doc in final_docs])\n",
    "len(vectors), len(vectors[0])\n"
   ]
  },
  {
   "cell_type": "markdown",
   "id": "9ac23f22",
   "metadata": {},
   "source": [
    "### USING CHROMA DB"
   ]
  },
  {
   "cell_type": "code",
   "execution_count": null,
   "id": "ad3a7075",
   "metadata": {},
   "outputs": [],
   "source": [
    "from langchain_community.vectorstores import Chroma\n",
    "\n",
    "chroma_db = Chroma.from_documents(documents=final_docs, embedding=embeddings, persist_directory=\"chroma_db\")"
   ]
  },
  {
   "cell_type": "code",
   "execution_count": null,
   "id": "4c7e6873",
   "metadata": {},
   "outputs": [
    {
     "data": {
      "text/plain": [
       "[(Document(metadata={'source': 'speech.txt'}, page_content='Honorable guests, distinguished colleagues, and fellow citizens,\\n\\nINTRODUCTION'),\n",
       "  0.28346580266952515),\n",
       " (Document(metadata={'source': 'speech.txt'}, page_content=\"Today, I stand before you to speak about one of humanity's greatest achievements: democracy. More\"),\n",
       "  0.33668404817581177),\n",
       " (Document(metadata={'source': 'speech.txt'}, page_content='Thank you.\\n\\n[Word count: Approximately 1,200 words]'),\n",
       "  0.34432676434516907),\n",
       " (Document(metadata={'source': 'speech.txt'}, page_content='equality, and justice.'),\n",
       "  0.38298314809799194)]"
      ]
     },
     "execution_count": 8,
     "metadata": {},
     "output_type": "execute_result"
    }
   ],
   "source": [
    "query = \"What is the main topic of the speech?\"\n",
    "similar_docs = chroma_db.similarity_search_with_score(query)\n",
    "similar_docs"
   ]
  },
  {
   "cell_type": "code",
   "execution_count": 9,
   "id": "9b265db2",
   "metadata": {},
   "outputs": [
    {
     "data": {
      "text/plain": [
       "[(Document(metadata={'source': 'speech.txt'}, page_content='Honorable guests, distinguished colleagues, and fellow citizens,\\n\\nINTRODUCTION'),\n",
       "  0.799559408697891),\n",
       " (Document(metadata={'source': 'speech.txt'}, page_content=\"Today, I stand before you to speak about one of humanity's greatest achievements: democracy. More\"),\n",
       "  0.7619284264175452),\n",
       " (Document(metadata={'source': 'speech.txt'}, page_content='Thank you.\\n\\n[Word count: Approximately 1,200 words]'),\n",
       "  0.7565242099875087),\n",
       " (Document(metadata={'source': 'speech.txt'}, page_content='equality, and justice.'),\n",
       "  0.7291900188997381)]"
      ]
     },
     "execution_count": 9,
     "metadata": {},
     "output_type": "execute_result"
    }
   ],
   "source": [
    "similar_docs = chroma_db.similarity_search_with_relevance_scores(query)\n",
    "similar_docs"
   ]
  },
  {
   "cell_type": "markdown",
   "id": "fc9141b1",
   "metadata": {},
   "source": [
    "### Using FAISS"
   ]
  },
  {
   "cell_type": "code",
   "execution_count": 12,
   "id": "0fa9612f",
   "metadata": {},
   "outputs": [
    {
     "data": {
      "text/plain": [
       "[Document(id='c94f3846-7316-4e07-b5e5-ad940e63ac00', metadata={'source': 'speech.txt'}, page_content='Honorable guests, distinguished colleagues, and fellow citizens,\\n\\nINTRODUCTION'),\n",
       " Document(id='33801034-38c9-46a0-b6b8-b54bc25ecbe4', metadata={'source': 'speech.txt'}, page_content=\"Today, I stand before you to speak about one of humanity's greatest achievements: democracy. More\"),\n",
       " Document(id='23151d5c-c1a3-4d66-8d6a-8f6bdd432bee', metadata={'source': 'speech.txt'}, page_content='Thank you.\\n\\n[Word count: Approximately 1,200 words]'),\n",
       " Document(id='a0d0f166-c1fe-408e-b520-3d190801f5bb', metadata={'source': 'speech.txt'}, page_content='equality, and justice.')]"
      ]
     },
     "execution_count": 12,
     "metadata": {},
     "output_type": "execute_result"
    }
   ],
   "source": [
    "from langchain_community.vectorstores import FAISS\n",
    "texts = [doc.page_content for doc in final_docs]\n",
    "text_embedding_list = list(zip(texts, vectors))\n",
    "vector_store = FAISS.from_embeddings(text_embeddings=text_embedding_list, embedding=embeddings, metadatas=[doc.metadata for doc in final_docs])\n",
    "similar_docs = vector_store.similarity_search(query)\n",
    "similar_docs"
   ]
  },
  {
   "cell_type": "code",
   "execution_count": 13,
   "id": "7e4a1d6e",
   "metadata": {},
   "outputs": [
    {
     "data": {
      "text/plain": [
       "[Document(id='dc685dfe-8c39-4201-934a-5f57b4d6719f', metadata={'source': 'speech.txt'}, page_content='Honorable guests, distinguished colleagues, and fellow citizens,\\n\\nINTRODUCTION'),\n",
       " Document(id='786d3a55-1541-49ca-bcf7-a70aa2fe5008', metadata={'source': 'speech.txt'}, page_content=\"Today, I stand before you to speak about one of humanity's greatest achievements: democracy. More\"),\n",
       " Document(id='aef70217-4a3c-401e-9206-7227096fd7fb', metadata={'source': 'speech.txt'}, page_content='Thank you.\\n\\n[Word count: Approximately 1,200 words]'),\n",
       " Document(id='be5ba72b-58d6-4f50-8085-61f7b780df37', metadata={'source': 'speech.txt'}, page_content='equality, and justice.')]"
      ]
     },
     "execution_count": 13,
     "metadata": {},
     "output_type": "execute_result"
    }
   ],
   "source": [
    "vector_store2 = FAISS.from_documents(\n",
    "    documents=final_docs,  # Your document objects\n",
    "    embedding=embeddings   # Embedding model to use\n",
    ")\n",
    "similar_docs = vector_store2.similarity_search(query)\n",
    "similar_docs"
   ]
  },
  {
   "cell_type": "markdown",
   "id": "d49134a0",
   "metadata": {},
   "source": [
    "### When to Use Which?\n",
    "#### Use from_documents when:<br>\n",
    "You want simplicity and convenience <br>\n",
    "You have Document objects ready <br>\n",
    "You want FAISS to handle embedding generation <br>\n",
    "#### Use from_embeddings when:<br>\n",
    "You already computed embeddings<br>\n",
    "You want more control over the process<br>\n",
    "You're working with custom embedding pipelines<br>\n",
    "You want to avoid re-computing embeddings<br>"
   ]
  },
  {
   "cell_type": "code",
   "execution_count": null,
   "id": "3c46bc96",
   "metadata": {},
   "outputs": [],
   "source": []
  }
 ],
 "metadata": {
  "kernelspec": {
   "display_name": "Python 3",
   "language": "python",
   "name": "python3"
  },
  "language_info": {
   "codemirror_mode": {
    "name": "ipython",
    "version": 3
   },
   "file_extension": ".py",
   "mimetype": "text/x-python",
   "name": "python",
   "nbconvert_exporter": "python",
   "pygments_lexer": "ipython3",
   "version": "3.10.0"
  }
 },
 "nbformat": 4,
 "nbformat_minor": 5
}
